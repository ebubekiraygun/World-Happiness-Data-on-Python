{
  "cells": [
    {
      "metadata": {
        "_uuid": "8f2839f25d086af736a60e9eeb907d3b93b6e0e5",
        "_cell_guid": "b1076dfc-b9ad-4769-8c92-a6c4dae69d19",
        "trusted": true,
        "_kg_hide-input": false,
        "_kg_hide-output": true
      },
      "cell_type": "code",
      "source": "# This Python 3 environment comes with many helpful analytics libraries installed\n# It is defined by the kaggle/python docker image: https://github.com/kaggle/docker-python\n# For example, here's several helpful packages to load in \n\nimport numpy as np # linear algebra\nimport pandas as pd # data processing, CSV file I/O (e.g. pd.read_csv)\n\n# Input data files are available in the \"../input/\" directory.\n# For example, running this (by clicking run or pressing Shift+Enter) will list the files in the input directory\n\nimport os\nprint(os.listdir(\"../input\"))\n\n# Any results you write to the current directory are saved as output.\n\nimport matplotlib.pyplot as plt\nimport seaborn as sns\n\n",
      "execution_count": 2,
      "outputs": [
        {
          "output_type": "stream",
          "text": "['2017.csv', '2016.csv', '2015.csv']\n",
          "name": "stdout"
        }
      ]
    },
    {
      "metadata": {
        "trusted": true,
        "_uuid": "3dfc31635dc4ea112dea77193935996006334560"
      },
      "cell_type": "code",
      "source": "data2015 = pd.read_csv('../input/2015.csv')\ndata2016 = pd.read_csv('../input/2016.csv')\ndata2017 = pd.read_csv('../input/2017.csv')",
      "execution_count": 3,
      "outputs": []
    },
    {
      "metadata": {
        "trusted": true,
        "_uuid": "ce300555d74c43e83480cc94271bd7add5c881e9"
      },
      "cell_type": "code",
      "source": "print(data2015.head(10))\n",
      "execution_count": null,
      "outputs": []
    },
    {
      "metadata": {
        "_cell_guid": "79c7e3d0-c299-4dcb-8224-4455121ee9b0",
        "_uuid": "d629ff2d2480ee46fbb7e2d37f6b5fab8052498a",
        "trusted": true,
        "scrolled": true
      },
      "cell_type": "code",
      "source": "\ndata2015.info()\ndata2015.corr()\n#correlation map\nf,ax = plt.subplots(figsize=(15,15))\nsns.heatmap(data2015.corr(),annot=True, linewidths=.5, fmt='.1f' , ax=ax)\nplt.show()\n",
      "execution_count": null,
      "outputs": []
    },
    {
      "metadata": {
        "trusted": true,
        "_uuid": "b1422a56ba9c37af6b7d9e5e798dd8f434e47838"
      },
      "cell_type": "code",
      "source": "#Lets change column names which are problem while codding on python\ndata2015.rename(columns ={'Happiness Score':'Happiness_Score', 'Economy (GDP per Capita)': 'Economy' , 'Health (Life Expectancy)':'Health', 'Happiness Rank':'Happiness_Rank'},inplace=True)",
      "execution_count": null,
      "outputs": []
    },
    {
      "metadata": {
        "trusted": true,
        "scrolled": true,
        "_uuid": "da112df021331231c963ee2b0854d7c5fb7b3ff2"
      },
      "cell_type": "code",
      "source": "#Line plot\n\ndata2015.columns\n\ndata2015.Economy.plot(kind = 'line', color = 'blue',label = 'Economy',linewidth=1,alpha = 0.9,grid = True,linestyle = ':')\ndata2015.Happiness_Score.plot(color = 'red',label = 'Happiness_Score',linewidth=1, alpha = 0.9,grid = True,linestyle = '-.')\nplt.legend(loc='upper right')\nplt.xlabel('x axis')\nplt.ylabel('y axis')\nplt.title('Line Plot')\nplt.show()\n\n#Scatter Plot\n#x = Economy, y = Happiness_Score\ndata2015.plot(kind='scatter', x='Economy', y='Happiness_Score', alpha=0.5,color='blue')\nplt.xlabel('Economy')\nplt.ylabel('Happiness_Score')\nplt.title('Economy-Happiness_Score Scatter Plot')\nplt.show()\n\n#histogram\ndata2015.Economy.plot(kind='hist',bins=40,figsize=(10,10))\nplt.show()",
      "execution_count": null,
      "outputs": []
    },
    {
      "metadata": {
        "trusted": true,
        "scrolled": true,
        "_uuid": "0c2665514eb3417f30bb79e4d6a623ace515ef9f"
      },
      "cell_type": "code",
      "source": "#sorting by economy\ndata2015.sort_values(['Economy','Country'])",
      "execution_count": null,
      "outputs": []
    },
    {
      "metadata": {
        "trusted": true,
        "scrolled": false,
        "_uuid": "7b1923ecba47026421a2f4f4e8985a9836372d28"
      },
      "cell_type": "code",
      "source": "#Filtering by Happiness_Rank\ndata2015[data2015.Happiness_Rank <=20]\n#Top 20 Happy Country sorting by Economy\ndata2015[data2015.Happiness_Rank<=20].sort_values('Economy',ascending=False)",
      "execution_count": null,
      "outputs": []
    },
    {
      "metadata": {
        "trusted": true,
        "_uuid": "7a25d916132b0b19163cafd3e6d35f1834b4f46a"
      },
      "cell_type": "code",
      "source": "data2015[(data2015.Region=='Western Europe')&(data2015.Freedom<=1)]",
      "execution_count": null,
      "outputs": []
    },
    {
      "metadata": {
        "trusted": true,
        "_uuid": "3160cef8bf09858b761569af292b877dbf292d06"
      },
      "cell_type": "code",
      "source": "#\nprint(data2015.groupby('Region').Economy.mean().sort_values(ascending=False))\ndata2015.groupby('Region').Economy.mean().sort_values(ascending=False).plot(kind='bar')\nplt.show()",
      "execution_count": null,
      "outputs": []
    },
    {
      "metadata": {
        "trusted": true,
        "_uuid": "7c9764bcae005409618c910623372294dec27cf3"
      },
      "cell_type": "code",
      "source": "#Lets see with details\ndata2015.groupby('Region').Economy.agg(['mean','max','min','count','median']).sort_values('mean',ascending='False')",
      "execution_count": null,
      "outputs": []
    },
    {
      "metadata": {
        "trusted": true,
        "_uuid": "a161d26faad8e0da3cd1d745988c21eca2cda474"
      },
      "cell_type": "code",
      "source": "#Lets add new column and change the Country name with upper letters\ndata2016['Country_Upper_Letters']=data2016.Country.str.upper()\ndata2016.head(5)\n",
      "execution_count": 17,
      "outputs": [
        {
          "output_type": "execute_result",
          "execution_count": 17,
          "data": {
            "text/plain": "       Country          ...          Country_Upper_Letters\n0      Denmark          ...                        DENMARK\n1  Switzerland          ...                    SWITZERLAND\n2      Iceland          ...                        ICELAND\n3       Norway          ...                         NORWAY\n4      Finland          ...                        FINLAND\n\n[5 rows x 14 columns]",
            "text/html": "<div>\n<style scoped>\n    .dataframe tbody tr th:only-of-type {\n        vertical-align: middle;\n    }\n\n    .dataframe tbody tr th {\n        vertical-align: top;\n    }\n\n    .dataframe thead th {\n        text-align: right;\n    }\n</style>\n<table border=\"1\" class=\"dataframe\">\n  <thead>\n    <tr style=\"text-align: right;\">\n      <th></th>\n      <th>Country</th>\n      <th>Region</th>\n      <th>Happiness Rank</th>\n      <th>Happiness Score</th>\n      <th>Lower Confidence Interval</th>\n      <th>Upper Confidence Interval</th>\n      <th>Economy (GDP per Capita)</th>\n      <th>Family</th>\n      <th>Health (Life Expectancy)</th>\n      <th>Freedom</th>\n      <th>Trust (Government Corruption)</th>\n      <th>Generosity</th>\n      <th>Dystopia Residual</th>\n      <th>Country_Upper_Letters</th>\n    </tr>\n  </thead>\n  <tbody>\n    <tr>\n      <th>0</th>\n      <td>Denmark</td>\n      <td>Western Europe</td>\n      <td>1</td>\n      <td>7.526</td>\n      <td>7.460</td>\n      <td>7.592</td>\n      <td>1.44178</td>\n      <td>1.16374</td>\n      <td>0.79504</td>\n      <td>0.57941</td>\n      <td>0.44453</td>\n      <td>0.36171</td>\n      <td>2.73939</td>\n      <td>DENMARK</td>\n    </tr>\n    <tr>\n      <th>1</th>\n      <td>Switzerland</td>\n      <td>Western Europe</td>\n      <td>2</td>\n      <td>7.509</td>\n      <td>7.428</td>\n      <td>7.590</td>\n      <td>1.52733</td>\n      <td>1.14524</td>\n      <td>0.86303</td>\n      <td>0.58557</td>\n      <td>0.41203</td>\n      <td>0.28083</td>\n      <td>2.69463</td>\n      <td>SWITZERLAND</td>\n    </tr>\n    <tr>\n      <th>2</th>\n      <td>Iceland</td>\n      <td>Western Europe</td>\n      <td>3</td>\n      <td>7.501</td>\n      <td>7.333</td>\n      <td>7.669</td>\n      <td>1.42666</td>\n      <td>1.18326</td>\n      <td>0.86733</td>\n      <td>0.56624</td>\n      <td>0.14975</td>\n      <td>0.47678</td>\n      <td>2.83137</td>\n      <td>ICELAND</td>\n    </tr>\n    <tr>\n      <th>3</th>\n      <td>Norway</td>\n      <td>Western Europe</td>\n      <td>4</td>\n      <td>7.498</td>\n      <td>7.421</td>\n      <td>7.575</td>\n      <td>1.57744</td>\n      <td>1.12690</td>\n      <td>0.79579</td>\n      <td>0.59609</td>\n      <td>0.35776</td>\n      <td>0.37895</td>\n      <td>2.66465</td>\n      <td>NORWAY</td>\n    </tr>\n    <tr>\n      <th>4</th>\n      <td>Finland</td>\n      <td>Western Europe</td>\n      <td>5</td>\n      <td>7.413</td>\n      <td>7.351</td>\n      <td>7.475</td>\n      <td>1.40598</td>\n      <td>1.13464</td>\n      <td>0.81091</td>\n      <td>0.57104</td>\n      <td>0.41004</td>\n      <td>0.25492</td>\n      <td>2.82596</td>\n      <td>FINLAND</td>\n    </tr>\n  </tbody>\n</table>\n</div>"
          },
          "metadata": {}
        }
      ]
    },
    {
      "metadata": {
        "trusted": true,
        "_uuid": "af0225732faa304aa28425c293321d449d39296a"
      },
      "cell_type": "code",
      "source": "#drop column\ndata2016=data2016.drop(['Country_Upper_Letters'], axis=1)",
      "execution_count": 16,
      "outputs": []
    },
    {
      "metadata": {
        "trusted": true,
        "_uuid": "fae2719f4b71782ee3060b2131b53f62fab44004"
      },
      "cell_type": "code",
      "source": "#Who contains Europe string, that is to say lets see all Europe\ndata2015[data2015.Region.str.contains('Europe')]",
      "execution_count": 18,
      "outputs": [
        {
          "output_type": "execute_result",
          "execution_count": 18,
          "data": {
            "text/plain": "                    Country        ...        Dystopia Residual\n0               Switzerland        ...                  2.51738\n1                   Iceland        ...                  2.70201\n2                   Denmark        ...                  2.49204\n3                    Norway        ...                  2.46531\n5                   Finland        ...                  2.61955\n6               Netherlands        ...                  2.46570\n7                    Sweden        ...                  2.37119\n12                  Austria        ...                  2.53320\n16               Luxembourg        ...                  1.96961\n17                  Ireland        ...                  1.97570\n18                  Belgium        ...                  2.41484\n20           United Kingdom        ...                  1.96994\n25                  Germany        ...                  2.11569\n28                   France        ...                  2.21126\n30           Czech Republic        ...                  2.67782\n35                    Spain        ...                  2.12367\n36                    Malta        ...                  1.64880\n43               Uzbekistan        ...                  2.23741\n44                 Slovakia        ...                  2.24639\n49                    Italy        ...                  2.02518\n51                  Moldova        ...                  3.10712\n53               Kazakhstan        ...                  2.24729\n54                 Slovenia        ...                  1.61583\n55                Lithuania        ...                  2.44649\n58                  Belarus        ...                  2.13090\n59                   Poland        ...                  1.86565\n61                  Croatia        ...                  2.75414\n63                   Russia        ...                  2.27394\n65             North Cyprus        ...                  1.59888\n66                   Cyprus        ...                  1.88931\n68                   Kosovo        ...                  2.76579\n69             Turkmenistan        ...                  1.86984\n72                  Estonia        ...                  1.58782\n76               Kyrgyzstan        ...                  2.23270\n79               Azerbaijan        ...                  2.00073\n82               Montenegro        ...                  2.10017\n85                  Romania        ...                  1.93129\n86                   Serbia        ...                  2.02500\n87                 Portugal        ...                  1.26462\n88                   Latvia        ...                  1.62215\n92                Macedonia        ...                  1.73933\n94                  Albania        ...                  1.89894\n95   Bosnia and Herzegovina        ...                  2.06367\n101                  Greece        ...                  1.80101\n103                 Hungary        ...                  1.24074\n105              Tajikistan        ...                  2.11399\n110                 Ukraine        ...                  1.57140\n126                 Armenia        ...                  1.75873\n129                 Georgia        ...                  1.59541\n133                Bulgaria        ...                  0.89991\n\n[50 rows x 12 columns]",
            "text/html": "<div>\n<style scoped>\n    .dataframe tbody tr th:only-of-type {\n        vertical-align: middle;\n    }\n\n    .dataframe tbody tr th {\n        vertical-align: top;\n    }\n\n    .dataframe thead th {\n        text-align: right;\n    }\n</style>\n<table border=\"1\" class=\"dataframe\">\n  <thead>\n    <tr style=\"text-align: right;\">\n      <th></th>\n      <th>Country</th>\n      <th>Region</th>\n      <th>Happiness Rank</th>\n      <th>Happiness Score</th>\n      <th>Standard Error</th>\n      <th>Economy (GDP per Capita)</th>\n      <th>Family</th>\n      <th>Health (Life Expectancy)</th>\n      <th>Freedom</th>\n      <th>Trust (Government Corruption)</th>\n      <th>Generosity</th>\n      <th>Dystopia Residual</th>\n    </tr>\n  </thead>\n  <tbody>\n    <tr>\n      <th>0</th>\n      <td>Switzerland</td>\n      <td>Western Europe</td>\n      <td>1</td>\n      <td>7.587</td>\n      <td>0.03411</td>\n      <td>1.39651</td>\n      <td>1.34951</td>\n      <td>0.94143</td>\n      <td>0.66557</td>\n      <td>0.41978</td>\n      <td>0.29678</td>\n      <td>2.51738</td>\n    </tr>\n    <tr>\n      <th>1</th>\n      <td>Iceland</td>\n      <td>Western Europe</td>\n      <td>2</td>\n      <td>7.561</td>\n      <td>0.04884</td>\n      <td>1.30232</td>\n      <td>1.40223</td>\n      <td>0.94784</td>\n      <td>0.62877</td>\n      <td>0.14145</td>\n      <td>0.43630</td>\n      <td>2.70201</td>\n    </tr>\n    <tr>\n      <th>2</th>\n      <td>Denmark</td>\n      <td>Western Europe</td>\n      <td>3</td>\n      <td>7.527</td>\n      <td>0.03328</td>\n      <td>1.32548</td>\n      <td>1.36058</td>\n      <td>0.87464</td>\n      <td>0.64938</td>\n      <td>0.48357</td>\n      <td>0.34139</td>\n      <td>2.49204</td>\n    </tr>\n    <tr>\n      <th>3</th>\n      <td>Norway</td>\n      <td>Western Europe</td>\n      <td>4</td>\n      <td>7.522</td>\n      <td>0.03880</td>\n      <td>1.45900</td>\n      <td>1.33095</td>\n      <td>0.88521</td>\n      <td>0.66973</td>\n      <td>0.36503</td>\n      <td>0.34699</td>\n      <td>2.46531</td>\n    </tr>\n    <tr>\n      <th>5</th>\n      <td>Finland</td>\n      <td>Western Europe</td>\n      <td>6</td>\n      <td>7.406</td>\n      <td>0.03140</td>\n      <td>1.29025</td>\n      <td>1.31826</td>\n      <td>0.88911</td>\n      <td>0.64169</td>\n      <td>0.41372</td>\n      <td>0.23351</td>\n      <td>2.61955</td>\n    </tr>\n    <tr>\n      <th>6</th>\n      <td>Netherlands</td>\n      <td>Western Europe</td>\n      <td>7</td>\n      <td>7.378</td>\n      <td>0.02799</td>\n      <td>1.32944</td>\n      <td>1.28017</td>\n      <td>0.89284</td>\n      <td>0.61576</td>\n      <td>0.31814</td>\n      <td>0.47610</td>\n      <td>2.46570</td>\n    </tr>\n    <tr>\n      <th>7</th>\n      <td>Sweden</td>\n      <td>Western Europe</td>\n      <td>8</td>\n      <td>7.364</td>\n      <td>0.03157</td>\n      <td>1.33171</td>\n      <td>1.28907</td>\n      <td>0.91087</td>\n      <td>0.65980</td>\n      <td>0.43844</td>\n      <td>0.36262</td>\n      <td>2.37119</td>\n    </tr>\n    <tr>\n      <th>12</th>\n      <td>Austria</td>\n      <td>Western Europe</td>\n      <td>13</td>\n      <td>7.200</td>\n      <td>0.03751</td>\n      <td>1.33723</td>\n      <td>1.29704</td>\n      <td>0.89042</td>\n      <td>0.62433</td>\n      <td>0.18676</td>\n      <td>0.33088</td>\n      <td>2.53320</td>\n    </tr>\n    <tr>\n      <th>16</th>\n      <td>Luxembourg</td>\n      <td>Western Europe</td>\n      <td>17</td>\n      <td>6.946</td>\n      <td>0.03499</td>\n      <td>1.56391</td>\n      <td>1.21963</td>\n      <td>0.91894</td>\n      <td>0.61583</td>\n      <td>0.37798</td>\n      <td>0.28034</td>\n      <td>1.96961</td>\n    </tr>\n    <tr>\n      <th>17</th>\n      <td>Ireland</td>\n      <td>Western Europe</td>\n      <td>18</td>\n      <td>6.940</td>\n      <td>0.03676</td>\n      <td>1.33596</td>\n      <td>1.36948</td>\n      <td>0.89533</td>\n      <td>0.61777</td>\n      <td>0.28703</td>\n      <td>0.45901</td>\n      <td>1.97570</td>\n    </tr>\n    <tr>\n      <th>18</th>\n      <td>Belgium</td>\n      <td>Western Europe</td>\n      <td>19</td>\n      <td>6.937</td>\n      <td>0.03595</td>\n      <td>1.30782</td>\n      <td>1.28566</td>\n      <td>0.89667</td>\n      <td>0.58450</td>\n      <td>0.22540</td>\n      <td>0.22250</td>\n      <td>2.41484</td>\n    </tr>\n    <tr>\n      <th>20</th>\n      <td>United Kingdom</td>\n      <td>Western Europe</td>\n      <td>21</td>\n      <td>6.867</td>\n      <td>0.01866</td>\n      <td>1.26637</td>\n      <td>1.28548</td>\n      <td>0.90943</td>\n      <td>0.59625</td>\n      <td>0.32067</td>\n      <td>0.51912</td>\n      <td>1.96994</td>\n    </tr>\n    <tr>\n      <th>25</th>\n      <td>Germany</td>\n      <td>Western Europe</td>\n      <td>26</td>\n      <td>6.750</td>\n      <td>0.01848</td>\n      <td>1.32792</td>\n      <td>1.29937</td>\n      <td>0.89186</td>\n      <td>0.61477</td>\n      <td>0.21843</td>\n      <td>0.28214</td>\n      <td>2.11569</td>\n    </tr>\n    <tr>\n      <th>28</th>\n      <td>France</td>\n      <td>Western Europe</td>\n      <td>29</td>\n      <td>6.575</td>\n      <td>0.03512</td>\n      <td>1.27778</td>\n      <td>1.26038</td>\n      <td>0.94579</td>\n      <td>0.55011</td>\n      <td>0.20646</td>\n      <td>0.12332</td>\n      <td>2.21126</td>\n    </tr>\n    <tr>\n      <th>30</th>\n      <td>Czech Republic</td>\n      <td>Central and Eastern Europe</td>\n      <td>31</td>\n      <td>6.505</td>\n      <td>0.04168</td>\n      <td>1.17898</td>\n      <td>1.20643</td>\n      <td>0.84483</td>\n      <td>0.46364</td>\n      <td>0.02652</td>\n      <td>0.10686</td>\n      <td>2.67782</td>\n    </tr>\n    <tr>\n      <th>35</th>\n      <td>Spain</td>\n      <td>Western Europe</td>\n      <td>36</td>\n      <td>6.329</td>\n      <td>0.03468</td>\n      <td>1.23011</td>\n      <td>1.31379</td>\n      <td>0.95562</td>\n      <td>0.45951</td>\n      <td>0.06398</td>\n      <td>0.18227</td>\n      <td>2.12367</td>\n    </tr>\n    <tr>\n      <th>36</th>\n      <td>Malta</td>\n      <td>Western Europe</td>\n      <td>37</td>\n      <td>6.302</td>\n      <td>0.04206</td>\n      <td>1.20740</td>\n      <td>1.30203</td>\n      <td>0.88721</td>\n      <td>0.60365</td>\n      <td>0.13586</td>\n      <td>0.51752</td>\n      <td>1.64880</td>\n    </tr>\n    <tr>\n      <th>43</th>\n      <td>Uzbekistan</td>\n      <td>Central and Eastern Europe</td>\n      <td>44</td>\n      <td>6.003</td>\n      <td>0.04361</td>\n      <td>0.63244</td>\n      <td>1.34043</td>\n      <td>0.59772</td>\n      <td>0.65821</td>\n      <td>0.30826</td>\n      <td>0.22837</td>\n      <td>2.23741</td>\n    </tr>\n    <tr>\n      <th>44</th>\n      <td>Slovakia</td>\n      <td>Central and Eastern Europe</td>\n      <td>45</td>\n      <td>5.995</td>\n      <td>0.04267</td>\n      <td>1.16891</td>\n      <td>1.26999</td>\n      <td>0.78902</td>\n      <td>0.31751</td>\n      <td>0.03431</td>\n      <td>0.16893</td>\n      <td>2.24639</td>\n    </tr>\n    <tr>\n      <th>49</th>\n      <td>Italy</td>\n      <td>Western Europe</td>\n      <td>50</td>\n      <td>5.948</td>\n      <td>0.03914</td>\n      <td>1.25114</td>\n      <td>1.19777</td>\n      <td>0.95446</td>\n      <td>0.26236</td>\n      <td>0.02901</td>\n      <td>0.22823</td>\n      <td>2.02518</td>\n    </tr>\n    <tr>\n      <th>51</th>\n      <td>Moldova</td>\n      <td>Central and Eastern Europe</td>\n      <td>52</td>\n      <td>5.889</td>\n      <td>0.03799</td>\n      <td>0.59448</td>\n      <td>1.01528</td>\n      <td>0.61826</td>\n      <td>0.32818</td>\n      <td>0.01615</td>\n      <td>0.20951</td>\n      <td>3.10712</td>\n    </tr>\n    <tr>\n      <th>53</th>\n      <td>Kazakhstan</td>\n      <td>Central and Eastern Europe</td>\n      <td>54</td>\n      <td>5.855</td>\n      <td>0.04114</td>\n      <td>1.12254</td>\n      <td>1.12241</td>\n      <td>0.64368</td>\n      <td>0.51649</td>\n      <td>0.08454</td>\n      <td>0.11827</td>\n      <td>2.24729</td>\n    </tr>\n    <tr>\n      <th>54</th>\n      <td>Slovenia</td>\n      <td>Central and Eastern Europe</td>\n      <td>55</td>\n      <td>5.848</td>\n      <td>0.04251</td>\n      <td>1.18498</td>\n      <td>1.27385</td>\n      <td>0.87337</td>\n      <td>0.60855</td>\n      <td>0.03787</td>\n      <td>0.25328</td>\n      <td>1.61583</td>\n    </tr>\n    <tr>\n      <th>55</th>\n      <td>Lithuania</td>\n      <td>Central and Eastern Europe</td>\n      <td>56</td>\n      <td>5.833</td>\n      <td>0.03843</td>\n      <td>1.14723</td>\n      <td>1.25745</td>\n      <td>0.73128</td>\n      <td>0.21342</td>\n      <td>0.01031</td>\n      <td>0.02641</td>\n      <td>2.44649</td>\n    </tr>\n    <tr>\n      <th>58</th>\n      <td>Belarus</td>\n      <td>Central and Eastern Europe</td>\n      <td>59</td>\n      <td>5.813</td>\n      <td>0.03938</td>\n      <td>1.03192</td>\n      <td>1.23289</td>\n      <td>0.73608</td>\n      <td>0.37938</td>\n      <td>0.19090</td>\n      <td>0.11046</td>\n      <td>2.13090</td>\n    </tr>\n    <tr>\n      <th>59</th>\n      <td>Poland</td>\n      <td>Central and Eastern Europe</td>\n      <td>60</td>\n      <td>5.791</td>\n      <td>0.04263</td>\n      <td>1.12555</td>\n      <td>1.27948</td>\n      <td>0.77903</td>\n      <td>0.53122</td>\n      <td>0.04212</td>\n      <td>0.16759</td>\n      <td>1.86565</td>\n    </tr>\n    <tr>\n      <th>61</th>\n      <td>Croatia</td>\n      <td>Central and Eastern Europe</td>\n      <td>62</td>\n      <td>5.759</td>\n      <td>0.04394</td>\n      <td>1.08254</td>\n      <td>0.79624</td>\n      <td>0.78805</td>\n      <td>0.25883</td>\n      <td>0.02430</td>\n      <td>0.05444</td>\n      <td>2.75414</td>\n    </tr>\n    <tr>\n      <th>63</th>\n      <td>Russia</td>\n      <td>Central and Eastern Europe</td>\n      <td>64</td>\n      <td>5.716</td>\n      <td>0.03135</td>\n      <td>1.13764</td>\n      <td>1.23617</td>\n      <td>0.66926</td>\n      <td>0.36679</td>\n      <td>0.03005</td>\n      <td>0.00199</td>\n      <td>2.27394</td>\n    </tr>\n    <tr>\n      <th>65</th>\n      <td>North Cyprus</td>\n      <td>Western Europe</td>\n      <td>66</td>\n      <td>5.695</td>\n      <td>0.05635</td>\n      <td>1.20806</td>\n      <td>1.07008</td>\n      <td>0.92356</td>\n      <td>0.49027</td>\n      <td>0.14280</td>\n      <td>0.26169</td>\n      <td>1.59888</td>\n    </tr>\n    <tr>\n      <th>66</th>\n      <td>Cyprus</td>\n      <td>Western Europe</td>\n      <td>67</td>\n      <td>5.689</td>\n      <td>0.05580</td>\n      <td>1.20813</td>\n      <td>0.89318</td>\n      <td>0.92356</td>\n      <td>0.40672</td>\n      <td>0.06146</td>\n      <td>0.30638</td>\n      <td>1.88931</td>\n    </tr>\n    <tr>\n      <th>68</th>\n      <td>Kosovo</td>\n      <td>Central and Eastern Europe</td>\n      <td>69</td>\n      <td>5.589</td>\n      <td>0.05018</td>\n      <td>0.80148</td>\n      <td>0.81198</td>\n      <td>0.63132</td>\n      <td>0.24749</td>\n      <td>0.04741</td>\n      <td>0.28310</td>\n      <td>2.76579</td>\n    </tr>\n    <tr>\n      <th>69</th>\n      <td>Turkmenistan</td>\n      <td>Central and Eastern Europe</td>\n      <td>70</td>\n      <td>5.548</td>\n      <td>0.04175</td>\n      <td>0.95847</td>\n      <td>1.22668</td>\n      <td>0.53886</td>\n      <td>0.47610</td>\n      <td>0.30844</td>\n      <td>0.16979</td>\n      <td>1.86984</td>\n    </tr>\n    <tr>\n      <th>72</th>\n      <td>Estonia</td>\n      <td>Central and Eastern Europe</td>\n      <td>73</td>\n      <td>5.429</td>\n      <td>0.04013</td>\n      <td>1.15174</td>\n      <td>1.22791</td>\n      <td>0.77361</td>\n      <td>0.44888</td>\n      <td>0.15184</td>\n      <td>0.08680</td>\n      <td>1.58782</td>\n    </tr>\n    <tr>\n      <th>76</th>\n      <td>Kyrgyzstan</td>\n      <td>Central and Eastern Europe</td>\n      <td>77</td>\n      <td>5.286</td>\n      <td>0.03823</td>\n      <td>0.47428</td>\n      <td>1.15115</td>\n      <td>0.65088</td>\n      <td>0.43477</td>\n      <td>0.04232</td>\n      <td>0.30030</td>\n      <td>2.23270</td>\n    </tr>\n    <tr>\n      <th>79</th>\n      <td>Azerbaijan</td>\n      <td>Central and Eastern Europe</td>\n      <td>80</td>\n      <td>5.212</td>\n      <td>0.03363</td>\n      <td>1.02389</td>\n      <td>0.93793</td>\n      <td>0.64045</td>\n      <td>0.37030</td>\n      <td>0.16065</td>\n      <td>0.07799</td>\n      <td>2.00073</td>\n    </tr>\n    <tr>\n      <th>82</th>\n      <td>Montenegro</td>\n      <td>Central and Eastern Europe</td>\n      <td>82</td>\n      <td>5.192</td>\n      <td>0.05235</td>\n      <td>0.97438</td>\n      <td>0.90557</td>\n      <td>0.72521</td>\n      <td>0.18260</td>\n      <td>0.14296</td>\n      <td>0.16140</td>\n      <td>2.10017</td>\n    </tr>\n    <tr>\n      <th>85</th>\n      <td>Romania</td>\n      <td>Central and Eastern Europe</td>\n      <td>86</td>\n      <td>5.124</td>\n      <td>0.06607</td>\n      <td>1.04345</td>\n      <td>0.88588</td>\n      <td>0.76890</td>\n      <td>0.35068</td>\n      <td>0.00649</td>\n      <td>0.13748</td>\n      <td>1.93129</td>\n    </tr>\n    <tr>\n      <th>86</th>\n      <td>Serbia</td>\n      <td>Central and Eastern Europe</td>\n      <td>87</td>\n      <td>5.123</td>\n      <td>0.04864</td>\n      <td>0.92053</td>\n      <td>1.00964</td>\n      <td>0.74836</td>\n      <td>0.20107</td>\n      <td>0.02617</td>\n      <td>0.19231</td>\n      <td>2.02500</td>\n    </tr>\n    <tr>\n      <th>87</th>\n      <td>Portugal</td>\n      <td>Western Europe</td>\n      <td>88</td>\n      <td>5.102</td>\n      <td>0.04802</td>\n      <td>1.15991</td>\n      <td>1.13935</td>\n      <td>0.87519</td>\n      <td>0.51469</td>\n      <td>0.01078</td>\n      <td>0.13719</td>\n      <td>1.26462</td>\n    </tr>\n    <tr>\n      <th>88</th>\n      <td>Latvia</td>\n      <td>Central and Eastern Europe</td>\n      <td>89</td>\n      <td>5.098</td>\n      <td>0.04640</td>\n      <td>1.11312</td>\n      <td>1.09562</td>\n      <td>0.72437</td>\n      <td>0.29671</td>\n      <td>0.06332</td>\n      <td>0.18226</td>\n      <td>1.62215</td>\n    </tr>\n    <tr>\n      <th>92</th>\n      <td>Macedonia</td>\n      <td>Central and Eastern Europe</td>\n      <td>93</td>\n      <td>5.007</td>\n      <td>0.05376</td>\n      <td>0.91851</td>\n      <td>1.00232</td>\n      <td>0.73545</td>\n      <td>0.33457</td>\n      <td>0.05327</td>\n      <td>0.22359</td>\n      <td>1.73933</td>\n    </tr>\n    <tr>\n      <th>94</th>\n      <td>Albania</td>\n      <td>Central and Eastern Europe</td>\n      <td>95</td>\n      <td>4.959</td>\n      <td>0.05013</td>\n      <td>0.87867</td>\n      <td>0.80434</td>\n      <td>0.81325</td>\n      <td>0.35733</td>\n      <td>0.06413</td>\n      <td>0.14272</td>\n      <td>1.89894</td>\n    </tr>\n    <tr>\n      <th>95</th>\n      <td>Bosnia and Herzegovina</td>\n      <td>Central and Eastern Europe</td>\n      <td>96</td>\n      <td>4.949</td>\n      <td>0.06913</td>\n      <td>0.83223</td>\n      <td>0.91916</td>\n      <td>0.79081</td>\n      <td>0.09245</td>\n      <td>0.00227</td>\n      <td>0.24808</td>\n      <td>2.06367</td>\n    </tr>\n    <tr>\n      <th>101</th>\n      <td>Greece</td>\n      <td>Western Europe</td>\n      <td>102</td>\n      <td>4.857</td>\n      <td>0.05062</td>\n      <td>1.15406</td>\n      <td>0.92933</td>\n      <td>0.88213</td>\n      <td>0.07699</td>\n      <td>0.01397</td>\n      <td>0.00000</td>\n      <td>1.80101</td>\n    </tr>\n    <tr>\n      <th>103</th>\n      <td>Hungary</td>\n      <td>Central and Eastern Europe</td>\n      <td>104</td>\n      <td>4.800</td>\n      <td>0.06107</td>\n      <td>1.12094</td>\n      <td>1.20215</td>\n      <td>0.75905</td>\n      <td>0.32112</td>\n      <td>0.02758</td>\n      <td>0.12800</td>\n      <td>1.24074</td>\n    </tr>\n    <tr>\n      <th>105</th>\n      <td>Tajikistan</td>\n      <td>Central and Eastern Europe</td>\n      <td>106</td>\n      <td>4.786</td>\n      <td>0.03198</td>\n      <td>0.39047</td>\n      <td>0.85563</td>\n      <td>0.57379</td>\n      <td>0.47216</td>\n      <td>0.15072</td>\n      <td>0.22974</td>\n      <td>2.11399</td>\n    </tr>\n    <tr>\n      <th>110</th>\n      <td>Ukraine</td>\n      <td>Central and Eastern Europe</td>\n      <td>111</td>\n      <td>4.681</td>\n      <td>0.04412</td>\n      <td>0.79907</td>\n      <td>1.20278</td>\n      <td>0.67390</td>\n      <td>0.25123</td>\n      <td>0.02961</td>\n      <td>0.15275</td>\n      <td>1.57140</td>\n    </tr>\n    <tr>\n      <th>126</th>\n      <td>Armenia</td>\n      <td>Central and Eastern Europe</td>\n      <td>127</td>\n      <td>4.350</td>\n      <td>0.04763</td>\n      <td>0.76821</td>\n      <td>0.77711</td>\n      <td>0.72990</td>\n      <td>0.19847</td>\n      <td>0.03900</td>\n      <td>0.07855</td>\n      <td>1.75873</td>\n    </tr>\n    <tr>\n      <th>129</th>\n      <td>Georgia</td>\n      <td>Central and Eastern Europe</td>\n      <td>130</td>\n      <td>4.297</td>\n      <td>0.04221</td>\n      <td>0.74190</td>\n      <td>0.38562</td>\n      <td>0.72926</td>\n      <td>0.40577</td>\n      <td>0.38331</td>\n      <td>0.05547</td>\n      <td>1.59541</td>\n    </tr>\n    <tr>\n      <th>133</th>\n      <td>Bulgaria</td>\n      <td>Central and Eastern Europe</td>\n      <td>134</td>\n      <td>4.218</td>\n      <td>0.04828</td>\n      <td>1.01216</td>\n      <td>1.10614</td>\n      <td>0.76649</td>\n      <td>0.30587</td>\n      <td>0.00872</td>\n      <td>0.11921</td>\n      <td>0.89991</td>\n    </tr>\n  </tbody>\n</table>\n</div>"
          },
          "metadata": {}
        }
      ]
    },
    {
      "metadata": {
        "trusted": true,
        "_uuid": "3435104a966080e9fdfb6b823e6fffb3f04ff17f"
      },
      "cell_type": "code",
      "source": "",
      "execution_count": null,
      "outputs": []
    }
  ],
  "metadata": {
    "kernelspec": {
      "display_name": "Python 3",
      "language": "python",
      "name": "python3"
    },
    "language_info": {
      "name": "python",
      "version": "3.6.6",
      "mimetype": "text/x-python",
      "codemirror_mode": {
        "name": "ipython",
        "version": 3
      },
      "pygments_lexer": "ipython3",
      "nbconvert_exporter": "python",
      "file_extension": ".py"
    }
  },
  "nbformat": 4,
  "nbformat_minor": 1
}